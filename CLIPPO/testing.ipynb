{
 "cells": [
  {
   "cell_type": "code",
   "execution_count": 1,
   "metadata": {},
   "outputs": [],
   "source": [
    "import pandas as pd \n",
    "df = pd.read_csv(\"cc3m_full_with_path.csv\")"
   ]
  },
  {
   "cell_type": "code",
   "execution_count": 2,
   "metadata": {},
   "outputs": [
    {
     "data": {
      "text/html": [
       "<div>\n",
       "<style scoped>\n",
       "    .dataframe tbody tr th:only-of-type {\n",
       "        vertical-align: middle;\n",
       "    }\n",
       "\n",
       "    .dataframe tbody tr th {\n",
       "        vertical-align: top;\n",
       "    }\n",
       "\n",
       "    .dataframe thead th {\n",
       "        text-align: right;\n",
       "    }\n",
       "</style>\n",
       "<table border=\"1\" class=\"dataframe\">\n",
       "  <thead>\n",
       "    <tr style=\"text-align: right;\">\n",
       "      <th></th>\n",
       "      <th>url</th>\n",
       "      <th>key</th>\n",
       "      <th>status</th>\n",
       "      <th>width</th>\n",
       "      <th>height</th>\n",
       "      <th>exif</th>\n",
       "      <th>caption</th>\n",
       "      <th>alt_txt</th>\n",
       "      <th>path</th>\n",
       "    </tr>\n",
       "  </thead>\n",
       "  <tbody>\n",
       "    <tr>\n",
       "      <th>0</th>\n",
       "      <td>https://ak0.picdn.net/shutterstock/videos/3380...</td>\n",
       "      <td>1470004</td>\n",
       "      <td>success</td>\n",
       "      <td>852.0</td>\n",
       "      <td>480.0</td>\n",
       "      <td>{}</td>\n",
       "      <td>the effect of moving the large colored particl...</td>\n",
       "      <td>\"\"</td>\n",
       "      <td>/home/temp/Desktop/ccm3_full/00147/001470004.jpg</td>\n",
       "    </tr>\n",
       "    <tr>\n",
       "      <th>1</th>\n",
       "      <td>https://ak9.picdn.net/shutterstock/videos/2377...</td>\n",
       "      <td>1470024</td>\n",
       "      <td>success</td>\n",
       "      <td>852.0</td>\n",
       "      <td>480.0</td>\n",
       "      <td>{}</td>\n",
       "      <td>wing of an airplane passing over clouds at hig...</td>\n",
       "      <td>\"\"</td>\n",
       "      <td>/home/temp/Desktop/ccm3_full/00147/001470024.jpg</td>\n",
       "    </tr>\n",
       "    <tr>\n",
       "      <th>2</th>\n",
       "      <td>https://ak7.picdn.net/shutterstock/videos/1292...</td>\n",
       "      <td>1470042</td>\n",
       "      <td>success</td>\n",
       "      <td>852.0</td>\n",
       "      <td>480.0</td>\n",
       "      <td>{}</td>\n",
       "      <td>man holding the keys to her new car in a motor...</td>\n",
       "      <td>\"\"</td>\n",
       "      <td>/home/temp/Desktop/ccm3_full/00147/001470042.jpg</td>\n",
       "    </tr>\n",
       "    <tr>\n",
       "      <th>3</th>\n",
       "      <td>https://ak9.picdn.net/shutterstock/videos/1147...</td>\n",
       "      <td>1470044</td>\n",
       "      <td>success</td>\n",
       "      <td>852.0</td>\n",
       "      <td>480.0</td>\n",
       "      <td>{}</td>\n",
       "      <td>background with particles and stars .</td>\n",
       "      <td>\"\"</td>\n",
       "      <td>/home/temp/Desktop/ccm3_full/00147/001470044.jpg</td>\n",
       "    </tr>\n",
       "    <tr>\n",
       "      <th>4</th>\n",
       "      <td>https://ak8.picdn.net/shutterstock/videos/5176...</td>\n",
       "      <td>1470039</td>\n",
       "      <td>success</td>\n",
       "      <td>852.0</td>\n",
       "      <td>480.0</td>\n",
       "      <td>{}</td>\n",
       "      <td>food canned in mason jars on shelves in a stor...</td>\n",
       "      <td>\"\"</td>\n",
       "      <td>/home/temp/Desktop/ccm3_full/00147/001470039.jpg</td>\n",
       "    </tr>\n",
       "    <tr>\n",
       "      <th>...</th>\n",
       "      <td>...</td>\n",
       "      <td>...</td>\n",
       "      <td>...</td>\n",
       "      <td>...</td>\n",
       "      <td>...</td>\n",
       "      <td>...</td>\n",
       "      <td>...</td>\n",
       "      <td>...</td>\n",
       "      <td>...</td>\n",
       "    </tr>\n",
       "    <tr>\n",
       "      <th>2555423</th>\n",
       "      <td>http://l7.alamy.com/zooms/5f24d20339df4077a506...</td>\n",
       "      <td>2199920</td>\n",
       "      <td>success</td>\n",
       "      <td>640.0</td>\n",
       "      <td>447.0</td>\n",
       "      <td>{}</td>\n",
       "      <td>senior woman in the park</td>\n",
       "      <td>\"\"</td>\n",
       "      <td>/home/temp/Desktop/ccm3_full/00219/002199920.jpg</td>\n",
       "    </tr>\n",
       "    <tr>\n",
       "      <th>2555424</th>\n",
       "      <td>http://l7.alamy.com/zooms/7c2ad41134dc4b1984d9...</td>\n",
       "      <td>2199914</td>\n",
       "      <td>success</td>\n",
       "      <td>640.0</td>\n",
       "      <td>446.0</td>\n",
       "      <td>{}</td>\n",
       "      <td>remote house in the forest by lake</td>\n",
       "      <td>\"\"</td>\n",
       "      <td>/home/temp/Desktop/ccm3_full/00219/002199914.jpg</td>\n",
       "    </tr>\n",
       "    <tr>\n",
       "      <th>2555425</th>\n",
       "      <td>http://l7.alamy.com/zooms/0dd49ace792a4db6be39...</td>\n",
       "      <td>2199999</td>\n",
       "      <td>success</td>\n",
       "      <td>640.0</td>\n",
       "      <td>448.0</td>\n",
       "      <td>{}</td>\n",
       "      <td>wind blown tree on the beach</td>\n",
       "      <td>\"\"</td>\n",
       "      <td>/home/temp/Desktop/ccm3_full/00219/002199999.jpg</td>\n",
       "    </tr>\n",
       "    <tr>\n",
       "      <th>2555426</th>\n",
       "      <td>http://l7.alamy.com/zooms/28f1e935be484181a90c...</td>\n",
       "      <td>2199994</td>\n",
       "      <td>success</td>\n",
       "      <td>640.0</td>\n",
       "      <td>447.0</td>\n",
       "      <td>{}</td>\n",
       "      <td>snow covered city park in a winter day .</td>\n",
       "      <td>\"\"</td>\n",
       "      <td>/home/temp/Desktop/ccm3_full/00219/002199994.jpg</td>\n",
       "    </tr>\n",
       "    <tr>\n",
       "      <th>2555427</th>\n",
       "      <td>https://www.cathaypacific.com/content/dam/foca...</td>\n",
       "      <td>2199875</td>\n",
       "      <td>success</td>\n",
       "      <td>900.0</td>\n",
       "      <td>600.0</td>\n",
       "      <td>{}</td>\n",
       "      <td>tower rising up out of the gardens</td>\n",
       "      <td>\"\"</td>\n",
       "      <td>/home/temp/Desktop/ccm3_full/00219/002199875.jpg</td>\n",
       "    </tr>\n",
       "  </tbody>\n",
       "</table>\n",
       "<p>2555428 rows × 9 columns</p>\n",
       "</div>"
      ],
      "text/plain": [
       "                                                       url      key   status  \\\n",
       "0        https://ak0.picdn.net/shutterstock/videos/3380...  1470004  success   \n",
       "1        https://ak9.picdn.net/shutterstock/videos/2377...  1470024  success   \n",
       "2        https://ak7.picdn.net/shutterstock/videos/1292...  1470042  success   \n",
       "3        https://ak9.picdn.net/shutterstock/videos/1147...  1470044  success   \n",
       "4        https://ak8.picdn.net/shutterstock/videos/5176...  1470039  success   \n",
       "...                                                    ...      ...      ...   \n",
       "2555423  http://l7.alamy.com/zooms/5f24d20339df4077a506...  2199920  success   \n",
       "2555424  http://l7.alamy.com/zooms/7c2ad41134dc4b1984d9...  2199914  success   \n",
       "2555425  http://l7.alamy.com/zooms/0dd49ace792a4db6be39...  2199999  success   \n",
       "2555426  http://l7.alamy.com/zooms/28f1e935be484181a90c...  2199994  success   \n",
       "2555427  https://www.cathaypacific.com/content/dam/foca...  2199875  success   \n",
       "\n",
       "         width  height exif  \\\n",
       "0        852.0   480.0   {}   \n",
       "1        852.0   480.0   {}   \n",
       "2        852.0   480.0   {}   \n",
       "3        852.0   480.0   {}   \n",
       "4        852.0   480.0   {}   \n",
       "...        ...     ...  ...   \n",
       "2555423  640.0   447.0   {}   \n",
       "2555424  640.0   446.0   {}   \n",
       "2555425  640.0   448.0   {}   \n",
       "2555426  640.0   447.0   {}   \n",
       "2555427  900.0   600.0   {}   \n",
       "\n",
       "                                                   caption alt_txt  \\\n",
       "0        the effect of moving the large colored particl...      \"\"   \n",
       "1        wing of an airplane passing over clouds at hig...      \"\"   \n",
       "2        man holding the keys to her new car in a motor...      \"\"   \n",
       "3                    background with particles and stars .      \"\"   \n",
       "4        food canned in mason jars on shelves in a stor...      \"\"   \n",
       "...                                                    ...     ...   \n",
       "2555423                           senior woman in the park      \"\"   \n",
       "2555424                 remote house in the forest by lake      \"\"   \n",
       "2555425                       wind blown tree on the beach      \"\"   \n",
       "2555426           snow covered city park in a winter day .      \"\"   \n",
       "2555427                 tower rising up out of the gardens      \"\"   \n",
       "\n",
       "                                                     path  \n",
       "0        /home/temp/Desktop/ccm3_full/00147/001470004.jpg  \n",
       "1        /home/temp/Desktop/ccm3_full/00147/001470024.jpg  \n",
       "2        /home/temp/Desktop/ccm3_full/00147/001470042.jpg  \n",
       "3        /home/temp/Desktop/ccm3_full/00147/001470044.jpg  \n",
       "4        /home/temp/Desktop/ccm3_full/00147/001470039.jpg  \n",
       "...                                                   ...  \n",
       "2555423  /home/temp/Desktop/ccm3_full/00219/002199920.jpg  \n",
       "2555424  /home/temp/Desktop/ccm3_full/00219/002199914.jpg  \n",
       "2555425  /home/temp/Desktop/ccm3_full/00219/002199999.jpg  \n",
       "2555426  /home/temp/Desktop/ccm3_full/00219/002199994.jpg  \n",
       "2555427  /home/temp/Desktop/ccm3_full/00219/002199875.jpg  \n",
       "\n",
       "[2555428 rows x 9 columns]"
      ]
     },
     "execution_count": 2,
     "metadata": {},
     "output_type": "execute_result"
    }
   ],
   "source": [
    "df"
   ]
  },
  {
   "cell_type": "code",
   "execution_count": 9,
   "metadata": {},
   "outputs": [],
   "source": [
    "from dataset import * \n",
    "from tqdm import tqdm "
   ]
  },
  {
   "cell_type": "code",
   "execution_count": 10,
   "metadata": {},
   "outputs": [],
   "source": [
    "from torchvision import datasets, transforms\n",
    "transform = transforms.Compose([\n",
    "        transforms.ToTensor(), \n",
    "        transforms.Normalize(mean=[0.485, 0.456, 0.406],\n",
    "                             std=[0.229, 0.224, 0.225]),\n",
    "        transforms.Resize((224, 224))\n",
    "    ])\n",
    "dataset = CC3M(transform, transform)"
   ]
  },
  {
   "cell_type": "code",
   "execution_count": 11,
   "metadata": {},
   "outputs": [],
   "source": [
    "from PIL import ImageFont, ImageDraw, Image \n",
    "\n",
    "def render_text(txt:str, image_size: int=224, font_size: int = 16, max_chars=768,\n",
    "                       background_brightness=127, text_brightness=0,\n",
    "                       lower=True, monospace=False, spacing=1, min_width=4,\n",
    "                       resize_method=\"area\", max_width=28):\n",
    "    if len(txt)> max_chars:\n",
    "        txt = txt[:max_chars]\n",
    "    if lower: \n",
    "        txt = txt.lower() \n",
    "    wrapper = textwrap.TextWrapper(width=max_width)\n",
    "    lines = wrapper.wrap(txt) \n",
    "    new_txt = \"\"\n",
    "    for line in lines: \n",
    "        new_txt+= line+'\\n'\n",
    "    image = Image.new(\"RGBA\", (image_size*3,image_size*3), (background_brightness,background_brightness,background_brightness))\n",
    "    draw = ImageDraw.Draw(image)\n",
    "    font = ImageFont.truetype(\"/home/temp/Desktop/CLIPPO/unifont-15.0.06.otf\", font_size*3)\n",
    "    draw.text((0, 0), new_txt, (text_brightness,text_brightness,text_brightness), font=font, spacing=spacing)\n",
    "    img_resized = image.resize((image_size,image_size), Image.ANTIALIAS)\n",
    "    return img_resized\n"
   ]
  },
  {
   "cell_type": "code",
   "execution_count": 22,
   "metadata": {},
   "outputs": [],
   "source": [
    "import torch \n",
    "from network import CLIPPO\n",
    "clippo = CLIPPO()\n",
    "clippo = clippo.cuda() \n",
    "#clippo.load_state_dict(torch.load(\"/home/temp/Desktop/KD/CLIPPO/clippo.pt\"), strict=False) "
   ]
  },
  {
   "cell_type": "code",
   "execution_count": 23,
   "metadata": {},
   "outputs": [],
   "source": [
    "image1, text1 = dataset[0]\n",
    "image2, text2 = dataset[1]\n",
    "image3, text3 = dataset[2]\n",
    "image4, text4 = dataset[3]\n",
    "stext, simage = torch.stack([text1, text2, text3, text4]).cuda(), torch.stack([image1, image2, image3, image4]).cuda()"
   ]
  },
  {
   "cell_type": "code",
   "execution_count": 24,
   "metadata": {},
   "outputs": [
    {
     "data": {
      "text/plain": [
       "(tensor([[-1.3269, -1.3930],\n",
       "         [-0.2609, -0.3248]], device='cuda:0', grad_fn=<MmBackward0>),\n",
       " tensor([[-1.3269, -0.2609],\n",
       "         [-1.3930, -0.3248]], device='cuda:0', grad_fn=<TBackward0>))"
      ]
     },
     "execution_count": 24,
     "metadata": {},
     "output_type": "execute_result"
    }
   ],
   "source": [
    "clippo(simage, stext)"
   ]
  },
  {
   "cell_type": "code",
   "execution_count": 25,
   "metadata": {},
   "outputs": [],
   "source": [
    "text_embed = clippo.encoder(torch.stack([text1, text2]).cuda())\n",
    "image_embed = clippo.encoder(torch.stack([image1, image2]).cuda())"
   ]
  },
  {
   "cell_type": "code",
   "execution_count": 29,
   "metadata": {},
   "outputs": [
    {
     "data": {
      "text/plain": [
       "tensor([[-1.6836,  0.7750, -1.2643,  ..., -1.1814, -0.7989, -1.3964],\n",
       "        [-2.3557,  0.9510, -0.9564,  ..., -0.6105, -0.3591, -1.6014]],\n",
       "       device='cuda:0', grad_fn=<SelectBackward0>)"
      ]
     },
     "execution_count": 29,
     "metadata": {},
     "output_type": "execute_result"
    }
   ],
   "source": [
    "image_embed"
   ]
  },
  {
   "cell_type": "code",
   "execution_count": 30,
   "metadata": {},
   "outputs": [
    {
     "data": {
      "text/plain": [
       "tensor([[-0.0419, -0.7034, -2.3115,  ...,  0.3312,  1.3117, -0.5221],\n",
       "        [-0.1148, -0.7164, -2.2922,  ...,  0.2798,  1.3894, -0.4874]],\n",
       "       device='cuda:0', grad_fn=<SelectBackward0>)"
      ]
     },
     "execution_count": 30,
     "metadata": {},
     "output_type": "execute_result"
    }
   ],
   "source": [
    "text_embed"
   ]
  },
  {
   "cell_type": "code",
   "execution_count": 31,
   "metadata": {},
   "outputs": [],
   "source": [
    "image_features = image_embed / image_embed.norm(dim=1, keepdim=True)\n",
    "text_features = text_embed / text_embed.norm(dim=1, keepdim=True)"
   ]
  },
  {
   "cell_type": "code",
   "execution_count": 32,
   "metadata": {},
   "outputs": [
    {
     "data": {
      "text/plain": [
       "tensor([[-0.0929, -0.0975],\n",
       "        [-0.0183, -0.0227]], device='cuda:0', grad_fn=<MmBackward0>)"
      ]
     },
     "execution_count": 32,
     "metadata": {},
     "output_type": "execute_result"
    }
   ],
   "source": [
    "image_features @ text_features.t()"
   ]
  },
  {
   "cell_type": "code",
   "execution_count": 43,
   "metadata": {},
   "outputs": [
    {
     "data": {
      "text/plain": [
       "tensor([[0.5199, 0.4801],\n",
       "        [0.4801, 0.5199]], device='cuda:0', grad_fn=<SoftmaxBackward0>)"
      ]
     },
     "execution_count": 43,
     "metadata": {},
     "output_type": "execute_result"
    }
   ],
   "source": [
    "(image_features @ image_features.t()).softmax(dim=0)"
   ]
  },
  {
   "cell_type": "code",
   "execution_count": null,
   "metadata": {},
   "outputs": [],
   "source": []
  }
 ],
 "metadata": {
  "kernelspec": {
   "display_name": "stanford_env",
   "language": "python",
   "name": "python3"
  },
  "language_info": {
   "codemirror_mode": {
    "name": "ipython",
    "version": 3
   },
   "file_extension": ".py",
   "mimetype": "text/x-python",
   "name": "python",
   "nbconvert_exporter": "python",
   "pygments_lexer": "ipython3",
   "version": "3.9.16"
  },
  "orig_nbformat": 4
 },
 "nbformat": 4,
 "nbformat_minor": 2
}
