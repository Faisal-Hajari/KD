{
 "cells": [
  {
   "cell_type": "code",
   "execution_count": 1,
   "metadata": {},
   "outputs": [],
   "source": [
    "import pandas as pd \n",
    "df = pd.read_csv(\"cc3m_full_with_path.csv\")"
   ]
  },
  {
   "cell_type": "code",
   "execution_count": 2,
   "metadata": {},
   "outputs": [
    {
     "data": {
      "text/html": [
       "<div>\n",
       "<style scoped>\n",
       "    .dataframe tbody tr th:only-of-type {\n",
       "        vertical-align: middle;\n",
       "    }\n",
       "\n",
       "    .dataframe tbody tr th {\n",
       "        vertical-align: top;\n",
       "    }\n",
       "\n",
       "    .dataframe thead th {\n",
       "        text-align: right;\n",
       "    }\n",
       "</style>\n",
       "<table border=\"1\" class=\"dataframe\">\n",
       "  <thead>\n",
       "    <tr style=\"text-align: right;\">\n",
       "      <th></th>\n",
       "      <th>url</th>\n",
       "      <th>key</th>\n",
       "      <th>status</th>\n",
       "      <th>width</th>\n",
       "      <th>height</th>\n",
       "      <th>exif</th>\n",
       "      <th>caption</th>\n",
       "      <th>alt_txt</th>\n",
       "      <th>path</th>\n",
       "    </tr>\n",
       "  </thead>\n",
       "  <tbody>\n",
       "    <tr>\n",
       "      <th>0</th>\n",
       "      <td>https://ak0.picdn.net/shutterstock/videos/3380...</td>\n",
       "      <td>1470004</td>\n",
       "      <td>success</td>\n",
       "      <td>852.0</td>\n",
       "      <td>480.0</td>\n",
       "      <td>{}</td>\n",
       "      <td>the effect of moving the large colored particl...</td>\n",
       "      <td>\"\"</td>\n",
       "      <td>/home/temp/Desktop/ccm3_full/00147/001470004.jpg</td>\n",
       "    </tr>\n",
       "    <tr>\n",
       "      <th>1</th>\n",
       "      <td>https://ak9.picdn.net/shutterstock/videos/2377...</td>\n",
       "      <td>1470024</td>\n",
       "      <td>success</td>\n",
       "      <td>852.0</td>\n",
       "      <td>480.0</td>\n",
       "      <td>{}</td>\n",
       "      <td>wing of an airplane passing over clouds at hig...</td>\n",
       "      <td>\"\"</td>\n",
       "      <td>/home/temp/Desktop/ccm3_full/00147/001470024.jpg</td>\n",
       "    </tr>\n",
       "    <tr>\n",
       "      <th>2</th>\n",
       "      <td>https://ak7.picdn.net/shutterstock/videos/1292...</td>\n",
       "      <td>1470042</td>\n",
       "      <td>success</td>\n",
       "      <td>852.0</td>\n",
       "      <td>480.0</td>\n",
       "      <td>{}</td>\n",
       "      <td>man holding the keys to her new car in a motor...</td>\n",
       "      <td>\"\"</td>\n",
       "      <td>/home/temp/Desktop/ccm3_full/00147/001470042.jpg</td>\n",
       "    </tr>\n",
       "    <tr>\n",
       "      <th>3</th>\n",
       "      <td>https://ak9.picdn.net/shutterstock/videos/1147...</td>\n",
       "      <td>1470044</td>\n",
       "      <td>success</td>\n",
       "      <td>852.0</td>\n",
       "      <td>480.0</td>\n",
       "      <td>{}</td>\n",
       "      <td>background with particles and stars .</td>\n",
       "      <td>\"\"</td>\n",
       "      <td>/home/temp/Desktop/ccm3_full/00147/001470044.jpg</td>\n",
       "    </tr>\n",
       "    <tr>\n",
       "      <th>4</th>\n",
       "      <td>https://ak8.picdn.net/shutterstock/videos/5176...</td>\n",
       "      <td>1470039</td>\n",
       "      <td>success</td>\n",
       "      <td>852.0</td>\n",
       "      <td>480.0</td>\n",
       "      <td>{}</td>\n",
       "      <td>food canned in mason jars on shelves in a stor...</td>\n",
       "      <td>\"\"</td>\n",
       "      <td>/home/temp/Desktop/ccm3_full/00147/001470039.jpg</td>\n",
       "    </tr>\n",
       "    <tr>\n",
       "      <th>...</th>\n",
       "      <td>...</td>\n",
       "      <td>...</td>\n",
       "      <td>...</td>\n",
       "      <td>...</td>\n",
       "      <td>...</td>\n",
       "      <td>...</td>\n",
       "      <td>...</td>\n",
       "      <td>...</td>\n",
       "      <td>...</td>\n",
       "    </tr>\n",
       "    <tr>\n",
       "      <th>2555423</th>\n",
       "      <td>http://l7.alamy.com/zooms/5f24d20339df4077a506...</td>\n",
       "      <td>2199920</td>\n",
       "      <td>success</td>\n",
       "      <td>640.0</td>\n",
       "      <td>447.0</td>\n",
       "      <td>{}</td>\n",
       "      <td>senior woman in the park</td>\n",
       "      <td>\"\"</td>\n",
       "      <td>/home/temp/Desktop/ccm3_full/00219/002199920.jpg</td>\n",
       "    </tr>\n",
       "    <tr>\n",
       "      <th>2555424</th>\n",
       "      <td>http://l7.alamy.com/zooms/7c2ad41134dc4b1984d9...</td>\n",
       "      <td>2199914</td>\n",
       "      <td>success</td>\n",
       "      <td>640.0</td>\n",
       "      <td>446.0</td>\n",
       "      <td>{}</td>\n",
       "      <td>remote house in the forest by lake</td>\n",
       "      <td>\"\"</td>\n",
       "      <td>/home/temp/Desktop/ccm3_full/00219/002199914.jpg</td>\n",
       "    </tr>\n",
       "    <tr>\n",
       "      <th>2555425</th>\n",
       "      <td>http://l7.alamy.com/zooms/0dd49ace792a4db6be39...</td>\n",
       "      <td>2199999</td>\n",
       "      <td>success</td>\n",
       "      <td>640.0</td>\n",
       "      <td>448.0</td>\n",
       "      <td>{}</td>\n",
       "      <td>wind blown tree on the beach</td>\n",
       "      <td>\"\"</td>\n",
       "      <td>/home/temp/Desktop/ccm3_full/00219/002199999.jpg</td>\n",
       "    </tr>\n",
       "    <tr>\n",
       "      <th>2555426</th>\n",
       "      <td>http://l7.alamy.com/zooms/28f1e935be484181a90c...</td>\n",
       "      <td>2199994</td>\n",
       "      <td>success</td>\n",
       "      <td>640.0</td>\n",
       "      <td>447.0</td>\n",
       "      <td>{}</td>\n",
       "      <td>snow covered city park in a winter day .</td>\n",
       "      <td>\"\"</td>\n",
       "      <td>/home/temp/Desktop/ccm3_full/00219/002199994.jpg</td>\n",
       "    </tr>\n",
       "    <tr>\n",
       "      <th>2555427</th>\n",
       "      <td>https://www.cathaypacific.com/content/dam/foca...</td>\n",
       "      <td>2199875</td>\n",
       "      <td>success</td>\n",
       "      <td>900.0</td>\n",
       "      <td>600.0</td>\n",
       "      <td>{}</td>\n",
       "      <td>tower rising up out of the gardens</td>\n",
       "      <td>\"\"</td>\n",
       "      <td>/home/temp/Desktop/ccm3_full/00219/002199875.jpg</td>\n",
       "    </tr>\n",
       "  </tbody>\n",
       "</table>\n",
       "<p>2555428 rows × 9 columns</p>\n",
       "</div>"
      ],
      "text/plain": [
       "                                                       url      key   status  \\\n",
       "0        https://ak0.picdn.net/shutterstock/videos/3380...  1470004  success   \n",
       "1        https://ak9.picdn.net/shutterstock/videos/2377...  1470024  success   \n",
       "2        https://ak7.picdn.net/shutterstock/videos/1292...  1470042  success   \n",
       "3        https://ak9.picdn.net/shutterstock/videos/1147...  1470044  success   \n",
       "4        https://ak8.picdn.net/shutterstock/videos/5176...  1470039  success   \n",
       "...                                                    ...      ...      ...   \n",
       "2555423  http://l7.alamy.com/zooms/5f24d20339df4077a506...  2199920  success   \n",
       "2555424  http://l7.alamy.com/zooms/7c2ad41134dc4b1984d9...  2199914  success   \n",
       "2555425  http://l7.alamy.com/zooms/0dd49ace792a4db6be39...  2199999  success   \n",
       "2555426  http://l7.alamy.com/zooms/28f1e935be484181a90c...  2199994  success   \n",
       "2555427  https://www.cathaypacific.com/content/dam/foca...  2199875  success   \n",
       "\n",
       "         width  height exif  \\\n",
       "0        852.0   480.0   {}   \n",
       "1        852.0   480.0   {}   \n",
       "2        852.0   480.0   {}   \n",
       "3        852.0   480.0   {}   \n",
       "4        852.0   480.0   {}   \n",
       "...        ...     ...  ...   \n",
       "2555423  640.0   447.0   {}   \n",
       "2555424  640.0   446.0   {}   \n",
       "2555425  640.0   448.0   {}   \n",
       "2555426  640.0   447.0   {}   \n",
       "2555427  900.0   600.0   {}   \n",
       "\n",
       "                                                   caption alt_txt  \\\n",
       "0        the effect of moving the large colored particl...      \"\"   \n",
       "1        wing of an airplane passing over clouds at hig...      \"\"   \n",
       "2        man holding the keys to her new car in a motor...      \"\"   \n",
       "3                    background with particles and stars .      \"\"   \n",
       "4        food canned in mason jars on shelves in a stor...      \"\"   \n",
       "...                                                    ...     ...   \n",
       "2555423                           senior woman in the park      \"\"   \n",
       "2555424                 remote house in the forest by lake      \"\"   \n",
       "2555425                       wind blown tree on the beach      \"\"   \n",
       "2555426           snow covered city park in a winter day .      \"\"   \n",
       "2555427                 tower rising up out of the gardens      \"\"   \n",
       "\n",
       "                                                     path  \n",
       "0        /home/temp/Desktop/ccm3_full/00147/001470004.jpg  \n",
       "1        /home/temp/Desktop/ccm3_full/00147/001470024.jpg  \n",
       "2        /home/temp/Desktop/ccm3_full/00147/001470042.jpg  \n",
       "3        /home/temp/Desktop/ccm3_full/00147/001470044.jpg  \n",
       "4        /home/temp/Desktop/ccm3_full/00147/001470039.jpg  \n",
       "...                                                   ...  \n",
       "2555423  /home/temp/Desktop/ccm3_full/00219/002199920.jpg  \n",
       "2555424  /home/temp/Desktop/ccm3_full/00219/002199914.jpg  \n",
       "2555425  /home/temp/Desktop/ccm3_full/00219/002199999.jpg  \n",
       "2555426  /home/temp/Desktop/ccm3_full/00219/002199994.jpg  \n",
       "2555427  /home/temp/Desktop/ccm3_full/00219/002199875.jpg  \n",
       "\n",
       "[2555428 rows x 9 columns]"
      ]
     },
     "execution_count": 2,
     "metadata": {},
     "output_type": "execute_result"
    }
   ],
   "source": [
    "df"
   ]
  },
  {
   "cell_type": "code",
   "execution_count": 11,
   "metadata": {},
   "outputs": [],
   "source": [
    "from  textwrap import TextWrapper\n",
    "import textwrap\n",
    "txt = \"HEEEEEEEEEEEEEEEEEEEEEEEEEEEEEEEEEEEEEEEEEEEEEEEEELLLLLLLLLLLLLLLLLLLLLLLLLLLLLLLLLLOOOOOOOOOOOOOOOOOOOOOOWORLD IS THIS THE REAL\"\n",
    "txt = TextWrapper(width=27, break_long_words=True)"
   ]
  },
  {
   "cell_type": "code",
   "execution_count": 13,
   "metadata": {},
   "outputs": [
    {
     "data": {
      "text/plain": [
       "True"
      ]
     },
     "execution_count": 13,
     "metadata": {},
     "output_type": "execute_result"
    }
   ],
   "source": [
    "txt."
   ]
  },
  {
   "cell_type": "code",
   "execution_count": 2,
   "metadata": {},
   "outputs": [],
   "source": [
    "from dataset import * \n",
    "from tqdm import tqdm "
   ]
  },
  {
   "cell_type": "code",
   "execution_count": 3,
   "metadata": {},
   "outputs": [],
   "source": [
    "dataset = CC3M()"
   ]
  },
  {
   "cell_type": "code",
   "execution_count": 11,
   "metadata": {},
   "outputs": [],
   "source": [
    "import torch \n",
    "replace_idx = torch.randint(17_000, (1, 1))"
   ]
  },
  {
   "cell_type": "code",
   "execution_count": 13,
   "metadata": {},
   "outputs": [
    {
     "data": {
      "text/plain": [
       "9224"
      ]
     },
     "execution_count": 13,
     "metadata": {},
     "output_type": "execute_result"
    }
   ],
   "source": [
    "replace_idx.item()"
   ]
  },
  {
   "cell_type": "code",
   "execution_count": 4,
   "metadata": {},
   "outputs": [
    {
     "name": "stderr",
     "output_type": "stream",
     "text": [
      "  1%|          | 17397/2555428 [05:02<12:14:37, 57.58it/s]\n"
     ]
    },
    {
     "ename": "KeyboardInterrupt",
     "evalue": "",
     "output_type": "error",
     "traceback": [
      "\u001b[0;31m---------------------------------------------------------------------------\u001b[0m",
      "\u001b[0;31mKeyboardInterrupt\u001b[0m                         Traceback (most recent call last)",
      "Cell \u001b[0;32mIn[4], line 2\u001b[0m\n\u001b[1;32m      1\u001b[0m \u001b[39mfor\u001b[39;00m i \u001b[39min\u001b[39;00m tqdm(\u001b[39mrange\u001b[39m(\u001b[39mlen\u001b[39m(dataset))): \n\u001b[0;32m----> 2\u001b[0m     _ \u001b[39m=\u001b[39m dataset[i]\n",
      "File \u001b[0;32m~/Desktop/KD/CLIPPO/dataset.py:37\u001b[0m, in \u001b[0;36mCC3M.__getitem__\u001b[0;34m(self, index)\u001b[0m\n\u001b[1;32m     35\u001b[0m row \u001b[39m=\u001b[39m \u001b[39mself\u001b[39m\u001b[39m.\u001b[39mdf\u001b[39m.\u001b[39miloc[index]\n\u001b[1;32m     36\u001b[0m image \u001b[39m=\u001b[39m row[\u001b[39m'\u001b[39m\u001b[39mpath\u001b[39m\u001b[39m'\u001b[39m]\n\u001b[0;32m---> 37\u001b[0m image \u001b[39m=\u001b[39m Image\u001b[39m.\u001b[39;49mopen(image)\u001b[39m.\u001b[39;49mconvert(\u001b[39m'\u001b[39;49m\u001b[39mRGB\u001b[39;49m\u001b[39m'\u001b[39;49m)\n\u001b[1;32m     38\u001b[0m \u001b[39mif\u001b[39;00m \u001b[39mself\u001b[39m\u001b[39m.\u001b[39mimage_transforms: \n\u001b[1;32m     39\u001b[0m     image \u001b[39m=\u001b[39m \u001b[39mself\u001b[39m\u001b[39m.\u001b[39mimage_transforms(image) \n",
      "File \u001b[0;32m~/miniconda3/envs/stanford_env/lib/python3.9/site-packages/PIL/Image.py:937\u001b[0m, in \u001b[0;36mImage.convert\u001b[0;34m(self, mode, matrix, dither, palette, colors)\u001b[0m\n\u001b[1;32m    889\u001b[0m \u001b[39mdef\u001b[39;00m \u001b[39mconvert\u001b[39m(\n\u001b[1;32m    890\u001b[0m     \u001b[39mself\u001b[39m, mode\u001b[39m=\u001b[39m\u001b[39mNone\u001b[39;00m, matrix\u001b[39m=\u001b[39m\u001b[39mNone\u001b[39;00m, dither\u001b[39m=\u001b[39m\u001b[39mNone\u001b[39;00m, palette\u001b[39m=\u001b[39mPalette\u001b[39m.\u001b[39mWEB, colors\u001b[39m=\u001b[39m\u001b[39m256\u001b[39m\n\u001b[1;32m    891\u001b[0m ):\n\u001b[1;32m    892\u001b[0m \u001b[39m    \u001b[39m\u001b[39m\"\"\"\u001b[39;00m\n\u001b[1;32m    893\u001b[0m \u001b[39m    Returns a converted copy of this image. For the \"P\" mode, this\u001b[39;00m\n\u001b[1;32m    894\u001b[0m \u001b[39m    method translates pixels through the palette.  If mode is\u001b[39;00m\n\u001b[0;32m   (...)\u001b[0m\n\u001b[1;32m    934\u001b[0m \u001b[39m    :returns: An :py:class:`~PIL.Image.Image` object.\u001b[39;00m\n\u001b[1;32m    935\u001b[0m \u001b[39m    \"\"\"\u001b[39;00m\n\u001b[0;32m--> 937\u001b[0m     \u001b[39mself\u001b[39;49m\u001b[39m.\u001b[39;49mload()\n\u001b[1;32m    939\u001b[0m     has_transparency \u001b[39m=\u001b[39m \u001b[39mself\u001b[39m\u001b[39m.\u001b[39minfo\u001b[39m.\u001b[39mget(\u001b[39m\"\u001b[39m\u001b[39mtransparency\u001b[39m\u001b[39m\"\u001b[39m) \u001b[39mis\u001b[39;00m \u001b[39mnot\u001b[39;00m \u001b[39mNone\u001b[39;00m\n\u001b[1;32m    940\u001b[0m     \u001b[39mif\u001b[39;00m \u001b[39mnot\u001b[39;00m mode \u001b[39mand\u001b[39;00m \u001b[39mself\u001b[39m\u001b[39m.\u001b[39mmode \u001b[39m==\u001b[39m \u001b[39m\"\u001b[39m\u001b[39mP\u001b[39m\u001b[39m\"\u001b[39m:\n\u001b[1;32m    941\u001b[0m         \u001b[39m# determine default mode\u001b[39;00m\n",
      "File \u001b[0;32m~/miniconda3/envs/stanford_env/lib/python3.9/site-packages/PIL/ImageFile.py:269\u001b[0m, in \u001b[0;36mImageFile.load\u001b[0;34m(self)\u001b[0m\n\u001b[1;32m    266\u001b[0m         \u001b[39mraise\u001b[39;00m \u001b[39mOSError\u001b[39;00m(msg)\n\u001b[1;32m    268\u001b[0m b \u001b[39m=\u001b[39m b \u001b[39m+\u001b[39m s\n\u001b[0;32m--> 269\u001b[0m n, err_code \u001b[39m=\u001b[39m decoder\u001b[39m.\u001b[39;49mdecode(b)\n\u001b[1;32m    270\u001b[0m \u001b[39mif\u001b[39;00m n \u001b[39m<\u001b[39m \u001b[39m0\u001b[39m:\n\u001b[1;32m    271\u001b[0m     \u001b[39mbreak\u001b[39;00m\n",
      "\u001b[0;31mKeyboardInterrupt\u001b[0m: "
     ]
    }
   ],
   "source": [
    "for i in tqdm(range(len(dataset))): \n",
    "    _ = dataset[i]"
   ]
  },
  {
   "cell_type": "code",
   "execution_count": null,
   "metadata": {},
   "outputs": [],
   "source": []
  },
  {
   "cell_type": "code",
   "execution_count": 42,
   "metadata": {},
   "outputs": [],
   "source": [
    "from torchvision import datasets, transforms\n",
    "transform = transforms.Compose([\n",
    "        transforms.ToTensor(), \n",
    "        transforms.Normalize(mean=[0.485, 0.456, 0.406],\n",
    "                             std=[0.229, 0.224, 0.225]),\n",
    "        transforms.Resize((224, 224))\n",
    "    ])\n",
    "dataset = CC3M(transform, transform)"
   ]
  },
  {
   "cell_type": "code",
   "execution_count": null,
   "metadata": {},
   "outputs": [],
   "source": [
    "dataset[]"
   ]
  },
  {
   "cell_type": "code",
   "execution_count": 22,
   "metadata": {},
   "outputs": [],
   "source": [
    "from PIL import ImageFont, ImageDraw, Image \n",
    "\n",
    "def render_text(txt:str, image_size: int=224, font_size: int = 16, max_chars=768,\n",
    "                       background_brightness=127, text_brightness=0,\n",
    "                       lower=True, monospace=False, spacing=1, min_width=4,\n",
    "                       resize_method=\"area\", max_width=28):\n",
    "    if len(txt)> max_chars:\n",
    "        txt = txt[:max_chars]\n",
    "    if lower: \n",
    "        txt = txt.lower() \n",
    "    wrapper = textwrap.TextWrapper(width=max_width)\n",
    "    lines = wrapper.wrap(txt) \n",
    "    new_txt = \"\"\n",
    "    for line in lines: \n",
    "        new_txt+= line+'\\n'\n",
    "    image = Image.new(\"RGBA\", (image_size*3,image_size*3), (background_brightness,background_brightness,background_brightness))\n",
    "    draw = ImageDraw.Draw(image)\n",
    "    font = ImageFont.truetype(\"/home/temp/Desktop/CLIPPO/unifont-15.0.06.otf\", font_size*3)\n",
    "    draw.text((0, 0), new_txt, (text_brightness,text_brightness,text_brightness), font=font, spacing=spacing)\n",
    "    img_resized = image.resize((image_size,image_size), Image.ANTIALIAS)\n",
    "    return img_resized\n"
   ]
  },
  {
   "cell_type": "code",
   "execution_count": 29,
   "metadata": {},
   "outputs": [],
   "source": [
    "import torch \n",
    "from network import CLIPPO\n",
    "clippo = CLIPPO(1)\n",
    "clippo = clippo.cuda() \n",
    "#clippo.load_state_dict(torch.load(\"/home/temp/Desktop/KD/CLIPPO/clippo.pt\")) "
   ]
  },
  {
   "cell_type": "code",
   "execution_count": 30,
   "metadata": {},
   "outputs": [],
   "source": [
    "image1, text1 = dataset[0]\n",
    "image2, text2 = dataset[2]"
   ]
  },
  {
   "cell_type": "code",
   "execution_count": 31,
   "metadata": {},
   "outputs": [
    {
     "data": {
      "text/plain": [
       "tensor(0., device='cuda:0', grad_fn=<MeanBackward0>)"
      ]
     },
     "execution_count": 31,
     "metadata": {},
     "output_type": "execute_result"
    }
   ],
   "source": [
    "clippo(image1[None, ].cuda(), text1[None, ].cuda())"
   ]
  },
  {
   "cell_type": "code",
   "execution_count": 32,
   "metadata": {},
   "outputs": [],
   "source": [
    "text_embed = clippo.encoder(torch.stack([text1, text2]).cuda())\n",
    "image_embed = clippo.encoder(torch.stack([image1, image2]).cuda())"
   ]
  },
  {
   "cell_type": "code",
   "execution_count": 37,
   "metadata": {},
   "outputs": [
    {
     "data": {
      "text/plain": [
       "tensor([[ 1.0033,  0.2610, -1.0145,  ...,  2.3434,  0.7584,  0.9603],\n",
       "        [-0.0209,  0.7269, -1.5723,  ...,  1.6124,  0.9936,  1.5815]],\n",
       "       device='cuda:0', grad_fn=<SelectBackward0>)"
      ]
     },
     "execution_count": 37,
     "metadata": {},
     "output_type": "execute_result"
    }
   ],
   "source": [
    "image_embed"
   ]
  },
  {
   "cell_type": "code",
   "execution_count": 38,
   "metadata": {},
   "outputs": [
    {
     "data": {
      "text/plain": [
       "tensor([[ 0.2167,  1.2422,  0.9508,  ..., -1.8052,  0.0664,  0.9264],\n",
       "        [ 0.2383,  1.1640,  0.9022,  ..., -1.8645,  0.0767,  0.9156]],\n",
       "       device='cuda:0', grad_fn=<SelectBackward0>)"
      ]
     },
     "execution_count": 38,
     "metadata": {},
     "output_type": "execute_result"
    }
   ],
   "source": [
    "text_embed"
   ]
  },
  {
   "cell_type": "code",
   "execution_count": 40,
   "metadata": {},
   "outputs": [
    {
     "data": {
      "text/plain": [
       "tensor([0.9985], device='cuda:0', grad_fn=<SumBackward1>)"
      ]
     },
     "execution_count": 40,
     "metadata": {},
     "output_type": "execute_result"
    }
   ],
   "source": [
    "torch.cosine_similarity(text_embed[1][None, ], text_embed[0][None, ])"
   ]
  },
  {
   "cell_type": "code",
   "execution_count": 25,
   "metadata": {},
   "outputs": [
    {
     "data": {
      "text/plain": [
       "torch.Size([2, 768])"
      ]
     },
     "execution_count": 25,
     "metadata": {},
     "output_type": "execute_result"
    }
   ],
   "source": []
  },
  {
   "cell_type": "code",
   "execution_count": 47,
   "metadata": {},
   "outputs": [
    {
     "data": {
      "text/plain": [
       "tensor(False)"
      ]
     },
     "execution_count": 47,
     "metadata": {},
     "output_type": "execute_result"
    }
   ],
   "source": [
    "torch.isnan(dataset[499][0]).any()"
   ]
  },
  {
   "cell_type": "code",
   "execution_count": null,
   "metadata": {},
   "outputs": [],
   "source": [
    "import numpy as np \n"
   ]
  },
  {
   "cell_type": "code",
   "execution_count": null,
   "metadata": {},
   "outputs": [],
   "source": [
    "dataset "
   ]
  }
 ],
 "metadata": {
  "kernelspec": {
   "display_name": "stanford_env",
   "language": "python",
   "name": "python3"
  },
  "language_info": {
   "codemirror_mode": {
    "name": "ipython",
    "version": 3
   },
   "file_extension": ".py",
   "mimetype": "text/x-python",
   "name": "python",
   "nbconvert_exporter": "python",
   "pygments_lexer": "ipython3",
   "version": "3.9.16"
  },
  "orig_nbformat": 4
 },
 "nbformat": 4,
 "nbformat_minor": 2
}
